{
  "cells": [
    {
      "cell_type": "markdown",
      "metadata": {
        "id": "view-in-github",
        "colab_type": "text"
      },
      "source": [
        "<a href=\"https://colab.research.google.com/github/nuramrina46/pneumonia/blob/main/resize/256.ipynb\" target=\"_parent\"><img src=\"https://colab.research.google.com/assets/colab-badge.svg\" alt=\"Open In Colab\"/></a>"
      ]
    },
    {
      "cell_type": "code",
      "execution_count": 1,
      "metadata": {
        "id": "2_RYo7hrXaC5",
        "colab": {
          "base_uri": "https://localhost:8080/"
        },
        "outputId": "6879b88e-ffc6-4d6b-c5dc-52faf38aee08"
      },
      "outputs": [
        {
          "output_type": "stream",
          "name": "stdout",
          "text": [
            "Mounted at /content/drive\n"
          ]
        }
      ],
      "source": [
        "from google.colab import drive\n",
        "drive.mount('/content/drive')"
      ]
    },
    {
      "cell_type": "code",
      "execution_count": 2,
      "metadata": {
        "id": "G4aisxOFX3KH",
        "colab": {
          "base_uri": "https://localhost:8080/"
        },
        "outputId": "2ad21e80-e5c6-4f3a-e5de-107c70419907"
      },
      "outputs": [
        {
          "output_type": "stream",
          "name": "stdout",
          "text": [
            "/content/drive/My Drive/Colab Notebooks\n"
          ]
        }
      ],
      "source": [
        "cd /content/drive/My Drive/Colab Notebooks"
      ]
    },
    {
      "cell_type": "code",
      "execution_count": 3,
      "metadata": {
        "id": "e_oGUrADX8O_",
        "colab": {
          "base_uri": "https://localhost:8080/"
        },
        "outputId": "8dc62c6e-2d4c-4e5b-dbff-745edb97ec90"
      },
      "outputs": [
        {
          "output_type": "stream",
          "name": "stdout",
          "text": [
            " \u001b[0m\u001b[01;34mPneumonia\u001b[0m/  'pneumonia_VGG_16_fiX (4).ipynb'   Untitled\n"
          ]
        }
      ],
      "source": [
        "ls"
      ]
    },
    {
      "cell_type": "code",
      "execution_count": 4,
      "metadata": {
        "id": "t95OxlI7X_OF"
      },
      "outputs": [],
      "source": [
        "from keras.models import Model\n",
        "from keras.models import load_model\n",
        "from keras.models import Sequential\n",
        "from keras.layers.convolutional import Convolution2D\n",
        "from keras.layers.convolutional import MaxPooling2D\n",
        "from keras.layers.convolutional import ZeroPadding2D\n",
        "from keras.layers.core import Activation\n",
        "from keras.layers.core import Flatten\n",
        "from keras.layers.core import Dense\n",
        "from keras.layers.core import Dropout\n",
        "from keras.layers import BatchNormalization\n",
        "from keras import regularizers\n",
        "from keras.preprocessing.image import ImageDataGenerator\n",
        "from tensorflow.keras.optimizers import RMSprop, Adam, SGD\n",
        "from sklearn.preprocessing import LabelBinarizer\n",
        "from sklearn.model_selection import train_test_split\n",
        "from sklearn.metrics import classification_report\n",
        "from PIL import Image\n",
        "from matplotlib import pyplot as plt\n",
        "from imutils import paths\n",
        "import numpy as np\n",
        "import os"
      ]
    },
    {
      "cell_type": "code",
      "execution_count": 5,
      "metadata": {
        "id": "jvn693i-YDZ8",
        "colab": {
          "base_uri": "https://localhost:8080/"
        },
        "outputId": "1b2d21f9-27ab-44ed-b2a8-4c11c4e05131"
      },
      "outputs": [
        {
          "output_type": "stream",
          "name": "stdout",
          "text": [
            "[INFO] loading images...\n"
          ]
        }
      ],
      "source": [
        "print(\"[INFO] loading images...\")\n",
        "imagePaths = paths.list_images(\"Pneumonia\")\n",
        "data = []\n",
        "labels = []"
      ]
    },
    {
      "cell_type": "code",
      "execution_count": 6,
      "metadata": {
        "id": "3XLuWAZsYLfK"
      },
      "outputs": [],
      "source": [
        "for imagePaths in imagePaths:\n",
        "    a = Image.open(imagePaths)\n",
        "    image = np.array(a.resize((256,256))) / 255.0\n",
        "    data.append(image)\n",
        "    \n",
        "    label = imagePaths.split(os.path.sep) [-2]\n",
        "    labels.append(label)"
      ]
    },
    {
      "cell_type": "code",
      "execution_count": 7,
      "metadata": {
        "id": "LocmKeyCUn_0",
        "colab": {
          "base_uri": "https://localhost:8080/"
        },
        "outputId": "759df680-78dd-4590-f64c-f0dc01049df3"
      },
      "outputs": [
        {
          "output_type": "stream",
          "name": "stdout",
          "text": [
            "(3166, 256, 256, 1)\n"
          ]
        }
      ],
      "source": [
        "temp = np.array(data)\n",
        "temp = np.expand_dims(temp, axis=3)\n",
        "print(temp.shape)"
      ]
    },
    {
      "cell_type": "code",
      "execution_count": 8,
      "metadata": {
        "id": "gnjyPDi_Yyrn",
        "colab": {
          "base_uri": "https://localhost:8080/"
        },
        "outputId": "3527ac4b-575d-4984-dc8a-00aca45ca18f"
      },
      "outputs": [
        {
          "output_type": "stream",
          "name": "stdout",
          "text": [
            "[[0 1]\n",
            " [0 1]\n",
            " [0 1]\n",
            " ...\n",
            " [1 0]\n",
            " [1 0]\n",
            " [1 0]]\n"
          ]
        }
      ],
      "source": [
        "from sklearn.preprocessing import LabelBinarizer\n",
        "import numpy as np\n",
        "\n",
        "class MyLabelBinarizer(LabelBinarizer):\n",
        "    def transform(self, label):\n",
        "      nilaiy = super().transform(label)\n",
        "      if self.y_type_== 'binary':\n",
        "        return np.hstack((nilaiy, 1-nilaiy))\n",
        "      else:\n",
        "        return nilaiy\n",
        "    def inverse_transform(self, nilaiy, threshold=None):\n",
        "      if self.y_type_ == 'binary':\n",
        "          return super().inverse_transform(nilaiy[:, 0], threshold)\n",
        "      else:\n",
        "          return super().inverse_transform(nilaiy, threshold)\n",
        "\n",
        "      \n",
        "\n",
        "lb = MyLabelBinarizer()\n",
        "labels = lb.fit_transform(labels)\n",
        "print(labels)"
      ]
    },
    {
      "cell_type": "code",
      "execution_count": 9,
      "metadata": {
        "id": "0V3CnlQtY1g2",
        "colab": {
          "base_uri": "https://localhost:8080/"
        },
        "outputId": "c87dece0-86cf-4010-be2a-4400e6800495"
      },
      "outputs": [
        {
          "output_type": "stream",
          "name": "stdout",
          "text": [
            "(2532, 256, 256)\n",
            "(634, 256, 256)\n"
          ]
        }
      ],
      "source": [
        "(trainX,testX, trainY, testY) = train_test_split(np.array(data),np.array(labels), test_size=0.20)\n",
        "print(trainX.shape)\n",
        "print(testX.shape)"
      ]
    },
    {
      "cell_type": "code",
      "execution_count": 10,
      "metadata": {
        "id": "WpeYjXzUZCZP"
      },
      "outputs": [],
      "source": [
        "def vgg16(num_classes):\n",
        "\n",
        "    vgg16 = Sequential()\n",
        "\n",
        "    vgg16.add(Convolution2D(input_shape=(256,256,1),filters=64,kernel_size=(3,3),padding=\"same\"))\n",
        "    vgg16.add(Activation('relu'))\n",
        "    vgg16.add(BatchNormalization())\n",
        "    #layer1 32*32*64\n",
        "    vgg16.add(Convolution2D(filters=64,kernel_size=(3,3),padding=\"same\"))\n",
        "    vgg16.add(Activation('relu'))\n",
        "    vgg16.add(MaxPooling2D(pool_size=(2, 2),strides=(2,2)))\n",
        "    vgg16.add(BatchNormalization())\n",
        "    #layer2 16*16*64\n",
        "    vgg16.add(Convolution2D(filters=128, kernel_size=(3,3), padding=\"same\"))\n",
        "    vgg16.add(Activation('relu'))\n",
        "    vgg16.add(BatchNormalization())\n",
        "    #layer3 16*16*128\n",
        "    vgg16.add(Convolution2D(filters=128, kernel_size=(3,3), padding=\"same\",))\n",
        "    vgg16.add(Activation('relu'))\n",
        "    vgg16.add(MaxPooling2D(pool_size=(2,2),strides=(2,2)))\n",
        "    vgg16.add(BatchNormalization())\n",
        "    #layer4 8*8*128\n",
        "    vgg16.add(Convolution2D(filters=256, kernel_size=(3,3), padding=\"same\"))\n",
        "    vgg16.add(Activation('relu'))\n",
        "    vgg16.add(BatchNormalization())\n",
        "    #layer5 8*8*256\n",
        "    vgg16.add(Convolution2D(filters=256, kernel_size=(3,3), padding=\"same\"))\n",
        "    vgg16.add(Activation('relu'))\n",
        "    vgg16.add(BatchNormalization())\n",
        "    #layer6 8*8*256\n",
        "    vgg16.add(Convolution2D(filters=256, kernel_size=(3,3), padding=\"same\"))\n",
        "    vgg16.add(Activation('relu'))\n",
        "    vgg16.add(MaxPooling2D(pool_size=(2,2),strides=(2,2)))\n",
        "    vgg16.add(BatchNormalization())\n",
        "    #layer7 4*4*256\n",
        "    vgg16.add(Convolution2D(filters=512, kernel_size=(3,3), padding=\"same\"))\n",
        "    vgg16.add(Activation('relu'))\n",
        "    vgg16.add(BatchNormalization())\n",
        "    #layer8 4*4*512\n",
        "    vgg16.add(Convolution2D(filters=512, kernel_size=(3,3), padding=\"same\"))\n",
        "    vgg16.add(Activation('relu'))\n",
        "    vgg16.add(BatchNormalization())\n",
        "    #layer9 4*4*512\n",
        "    vgg16.add(Convolution2D(filters=512, kernel_size=(3,3), padding=\"same\"))\n",
        "    vgg16.add(Activation('relu'))\n",
        "    vgg16.add(MaxPooling2D(pool_size=(2,2),strides=(2,2)))\n",
        "    vgg16.add(BatchNormalization())\n",
        "    #layer10 2*2*512\n",
        "    vgg16.add(Convolution2D(filters=512, kernel_size=(3,3), padding=\"same\"))\n",
        "    vgg16.add(Activation('relu'))\n",
        "    vgg16.add(BatchNormalization())\n",
        "    #layer11 2*2*512\n",
        "    vgg16.add(Convolution2D(filters=512, kernel_size=(3,3), padding=\"same\"))  \n",
        "    vgg16.add(Activation('relu')) \n",
        "    vgg16.add(BatchNormalization())       \n",
        "    #layer12 2*2*512\n",
        "    vgg16.add(Convolution2D(filters=512, kernel_size=(3,3), padding=\"same\"))\n",
        "    vgg16.add(Activation('relu'))\n",
        "    vgg16.add(MaxPooling2D(pool_size=(2,2),strides=(2,2)))\n",
        "    vgg16.add(BatchNormalization())\n",
        "    #layer13 1*1*512\n",
        "    vgg16.add(Flatten())\n",
        "    vgg16.add(Dense(units=4096))\n",
        "    vgg16.add(Activation('relu')) \n",
        "    vgg16.add(BatchNormalization())\n",
        "    vgg16.add(Dropout(0.5))\n",
        "    #layer14 4096\n",
        "    vgg16.add(Dense(units=4096))\n",
        "    vgg16.add(Activation('relu')) \n",
        "    vgg16.add(BatchNormalization())\n",
        "    vgg16.add(Dropout(0.5))\n",
        "    #layer16 4096\n",
        "    vgg16.add(Dense(units=1000))\n",
        "    vgg16.add(Activation('relu'))\n",
        "    vgg16.add(BatchNormalization())\n",
        "    vgg16.add(Dropout(0.5)) \n",
        "    #layer16 1000\n",
        "    vgg16.add(Dense(2, activation=\"softmax\"))\n",
        "\n",
        "    return vgg16"
      ]
    },
    {
      "cell_type": "code",
      "execution_count": 11,
      "metadata": {
        "id": "rlT3OhVuZLUs",
        "colab": {
          "base_uri": "https://localhost:8080/"
        },
        "outputId": "dced3f3a-d95e-4707-8a3f-1f7804c06e1a"
      },
      "outputs": [
        {
          "output_type": "stream",
          "name": "stdout",
          "text": [
            "Model: \"sequential\"\n",
            "_________________________________________________________________\n",
            " Layer (type)                Output Shape              Param #   \n",
            "=================================================================\n",
            " conv2d (Conv2D)             (None, 256, 256, 64)      640       \n",
            "                                                                 \n",
            " activation (Activation)     (None, 256, 256, 64)      0         \n",
            "                                                                 \n",
            " batch_normalization (BatchN  (None, 256, 256, 64)     256       \n",
            " ormalization)                                                   \n",
            "                                                                 \n",
            " conv2d_1 (Conv2D)           (None, 256, 256, 64)      36928     \n",
            "                                                                 \n",
            " activation_1 (Activation)   (None, 256, 256, 64)      0         \n",
            "                                                                 \n",
            " max_pooling2d (MaxPooling2D  (None, 128, 128, 64)     0         \n",
            " )                                                               \n",
            "                                                                 \n",
            " batch_normalization_1 (Batc  (None, 128, 128, 64)     256       \n",
            " hNormalization)                                                 \n",
            "                                                                 \n",
            " conv2d_2 (Conv2D)           (None, 128, 128, 128)     73856     \n",
            "                                                                 \n",
            " activation_2 (Activation)   (None, 128, 128, 128)     0         \n",
            "                                                                 \n",
            " batch_normalization_2 (Batc  (None, 128, 128, 128)    512       \n",
            " hNormalization)                                                 \n",
            "                                                                 \n",
            " conv2d_3 (Conv2D)           (None, 128, 128, 128)     147584    \n",
            "                                                                 \n",
            " activation_3 (Activation)   (None, 128, 128, 128)     0         \n",
            "                                                                 \n",
            " max_pooling2d_1 (MaxPooling  (None, 64, 64, 128)      0         \n",
            " 2D)                                                             \n",
            "                                                                 \n",
            " batch_normalization_3 (Batc  (None, 64, 64, 128)      512       \n",
            " hNormalization)                                                 \n",
            "                                                                 \n",
            " conv2d_4 (Conv2D)           (None, 64, 64, 256)       295168    \n",
            "                                                                 \n",
            " activation_4 (Activation)   (None, 64, 64, 256)       0         \n",
            "                                                                 \n",
            " batch_normalization_4 (Batc  (None, 64, 64, 256)      1024      \n",
            " hNormalization)                                                 \n",
            "                                                                 \n",
            " conv2d_5 (Conv2D)           (None, 64, 64, 256)       590080    \n",
            "                                                                 \n",
            " activation_5 (Activation)   (None, 64, 64, 256)       0         \n",
            "                                                                 \n",
            " batch_normalization_5 (Batc  (None, 64, 64, 256)      1024      \n",
            " hNormalization)                                                 \n",
            "                                                                 \n",
            " conv2d_6 (Conv2D)           (None, 64, 64, 256)       590080    \n",
            "                                                                 \n",
            " activation_6 (Activation)   (None, 64, 64, 256)       0         \n",
            "                                                                 \n",
            " max_pooling2d_2 (MaxPooling  (None, 32, 32, 256)      0         \n",
            " 2D)                                                             \n",
            "                                                                 \n",
            " batch_normalization_6 (Batc  (None, 32, 32, 256)      1024      \n",
            " hNormalization)                                                 \n",
            "                                                                 \n",
            " conv2d_7 (Conv2D)           (None, 32, 32, 512)       1180160   \n",
            "                                                                 \n",
            " activation_7 (Activation)   (None, 32, 32, 512)       0         \n",
            "                                                                 \n",
            " batch_normalization_7 (Batc  (None, 32, 32, 512)      2048      \n",
            " hNormalization)                                                 \n",
            "                                                                 \n",
            " conv2d_8 (Conv2D)           (None, 32, 32, 512)       2359808   \n",
            "                                                                 \n",
            " activation_8 (Activation)   (None, 32, 32, 512)       0         \n",
            "                                                                 \n",
            " batch_normalization_8 (Batc  (None, 32, 32, 512)      2048      \n",
            " hNormalization)                                                 \n",
            "                                                                 \n",
            " conv2d_9 (Conv2D)           (None, 32, 32, 512)       2359808   \n",
            "                                                                 \n",
            " activation_9 (Activation)   (None, 32, 32, 512)       0         \n",
            "                                                                 \n",
            " max_pooling2d_3 (MaxPooling  (None, 16, 16, 512)      0         \n",
            " 2D)                                                             \n",
            "                                                                 \n",
            " batch_normalization_9 (Batc  (None, 16, 16, 512)      2048      \n",
            " hNormalization)                                                 \n",
            "                                                                 \n",
            " conv2d_10 (Conv2D)          (None, 16, 16, 512)       2359808   \n",
            "                                                                 \n",
            " activation_10 (Activation)  (None, 16, 16, 512)       0         \n",
            "                                                                 \n",
            " batch_normalization_10 (Bat  (None, 16, 16, 512)      2048      \n",
            " chNormalization)                                                \n",
            "                                                                 \n",
            " conv2d_11 (Conv2D)          (None, 16, 16, 512)       2359808   \n",
            "                                                                 \n",
            " activation_11 (Activation)  (None, 16, 16, 512)       0         \n",
            "                                                                 \n",
            " batch_normalization_11 (Bat  (None, 16, 16, 512)      2048      \n",
            " chNormalization)                                                \n",
            "                                                                 \n",
            " conv2d_12 (Conv2D)          (None, 16, 16, 512)       2359808   \n",
            "                                                                 \n",
            " activation_12 (Activation)  (None, 16, 16, 512)       0         \n",
            "                                                                 \n",
            " max_pooling2d_4 (MaxPooling  (None, 8, 8, 512)        0         \n",
            " 2D)                                                             \n",
            "                                                                 \n",
            " batch_normalization_12 (Bat  (None, 8, 8, 512)        2048      \n",
            " chNormalization)                                                \n",
            "                                                                 \n",
            " flatten (Flatten)           (None, 32768)             0         \n",
            "                                                                 \n",
            " dense (Dense)               (None, 4096)              134221824 \n",
            "                                                                 \n",
            " activation_13 (Activation)  (None, 4096)              0         \n",
            "                                                                 \n",
            " batch_normalization_13 (Bat  (None, 4096)             16384     \n",
            " chNormalization)                                                \n",
            "                                                                 \n",
            " dropout (Dropout)           (None, 4096)              0         \n",
            "                                                                 \n",
            " dense_1 (Dense)             (None, 4096)              16781312  \n",
            "                                                                 \n",
            " activation_14 (Activation)  (None, 4096)              0         \n",
            "                                                                 \n",
            " batch_normalization_14 (Bat  (None, 4096)             16384     \n",
            " chNormalization)                                                \n",
            "                                                                 \n",
            " dropout_1 (Dropout)         (None, 4096)              0         \n",
            "                                                                 \n",
            " dense_2 (Dense)             (None, 1000)              4097000   \n",
            "                                                                 \n",
            " activation_15 (Activation)  (None, 1000)              0         \n",
            "                                                                 \n",
            " batch_normalization_15 (Bat  (None, 1000)             4000      \n",
            " chNormalization)                                                \n",
            "                                                                 \n",
            " dropout_2 (Dropout)         (None, 1000)              0         \n",
            "                                                                 \n",
            " dense_3 (Dense)             (None, 2)                 2002      \n",
            "                                                                 \n",
            "=================================================================\n",
            "Total params: 169,869,338\n",
            "Trainable params: 169,842,506\n",
            "Non-trainable params: 26,832\n",
            "_________________________________________________________________\n"
          ]
        }
      ],
      "source": [
        "num_classes=2\n",
        "vgg16=vgg16(num_classes)\n",
        "vgg16.summary()"
      ]
    },
    {
      "cell_type": "code",
      "execution_count": 12,
      "metadata": {
        "id": "eZ0TePWVZTx4",
        "colab": {
          "base_uri": "https://localhost:8080/"
        },
        "outputId": "baeaa87a-a0ec-4780-a5da-a0c60010442f"
      },
      "outputs": [
        {
          "output_type": "stream",
          "name": "stdout",
          "text": [
            "Model: \"sequential\"\n",
            "_________________________________________________________________\n",
            " Layer (type)                Output Shape              Param #   \n",
            "=================================================================\n",
            " conv2d (Conv2D)             (None, 256, 256, 64)      640       \n",
            "                                                                 \n",
            " activation (Activation)     (None, 256, 256, 64)      0         \n",
            "                                                                 \n",
            " batch_normalization (BatchN  (None, 256, 256, 64)     256       \n",
            " ormalization)                                                   \n",
            "                                                                 \n",
            " conv2d_1 (Conv2D)           (None, 256, 256, 64)      36928     \n",
            "                                                                 \n",
            " activation_1 (Activation)   (None, 256, 256, 64)      0         \n",
            "                                                                 \n",
            " max_pooling2d (MaxPooling2D  (None, 128, 128, 64)     0         \n",
            " )                                                               \n",
            "                                                                 \n",
            " batch_normalization_1 (Batc  (None, 128, 128, 64)     256       \n",
            " hNormalization)                                                 \n",
            "                                                                 \n",
            " conv2d_2 (Conv2D)           (None, 128, 128, 128)     73856     \n",
            "                                                                 \n",
            " activation_2 (Activation)   (None, 128, 128, 128)     0         \n",
            "                                                                 \n",
            " batch_normalization_2 (Batc  (None, 128, 128, 128)    512       \n",
            " hNormalization)                                                 \n",
            "                                                                 \n",
            " conv2d_3 (Conv2D)           (None, 128, 128, 128)     147584    \n",
            "                                                                 \n",
            " activation_3 (Activation)   (None, 128, 128, 128)     0         \n",
            "                                                                 \n",
            " max_pooling2d_1 (MaxPooling  (None, 64, 64, 128)      0         \n",
            " 2D)                                                             \n",
            "                                                                 \n",
            " batch_normalization_3 (Batc  (None, 64, 64, 128)      512       \n",
            " hNormalization)                                                 \n",
            "                                                                 \n",
            " conv2d_4 (Conv2D)           (None, 64, 64, 256)       295168    \n",
            "                                                                 \n",
            " activation_4 (Activation)   (None, 64, 64, 256)       0         \n",
            "                                                                 \n",
            " batch_normalization_4 (Batc  (None, 64, 64, 256)      1024      \n",
            " hNormalization)                                                 \n",
            "                                                                 \n",
            " conv2d_5 (Conv2D)           (None, 64, 64, 256)       590080    \n",
            "                                                                 \n",
            " activation_5 (Activation)   (None, 64, 64, 256)       0         \n",
            "                                                                 \n",
            " batch_normalization_5 (Batc  (None, 64, 64, 256)      1024      \n",
            " hNormalization)                                                 \n",
            "                                                                 \n",
            " conv2d_6 (Conv2D)           (None, 64, 64, 256)       590080    \n",
            "                                                                 \n",
            " activation_6 (Activation)   (None, 64, 64, 256)       0         \n",
            "                                                                 \n",
            " max_pooling2d_2 (MaxPooling  (None, 32, 32, 256)      0         \n",
            " 2D)                                                             \n",
            "                                                                 \n",
            " batch_normalization_6 (Batc  (None, 32, 32, 256)      1024      \n",
            " hNormalization)                                                 \n",
            "                                                                 \n",
            " conv2d_7 (Conv2D)           (None, 32, 32, 512)       1180160   \n",
            "                                                                 \n",
            " activation_7 (Activation)   (None, 32, 32, 512)       0         \n",
            "                                                                 \n",
            " batch_normalization_7 (Batc  (None, 32, 32, 512)      2048      \n",
            " hNormalization)                                                 \n",
            "                                                                 \n",
            " conv2d_8 (Conv2D)           (None, 32, 32, 512)       2359808   \n",
            "                                                                 \n",
            " activation_8 (Activation)   (None, 32, 32, 512)       0         \n",
            "                                                                 \n",
            " batch_normalization_8 (Batc  (None, 32, 32, 512)      2048      \n",
            " hNormalization)                                                 \n",
            "                                                                 \n",
            " conv2d_9 (Conv2D)           (None, 32, 32, 512)       2359808   \n",
            "                                                                 \n",
            " activation_9 (Activation)   (None, 32, 32, 512)       0         \n",
            "                                                                 \n",
            " max_pooling2d_3 (MaxPooling  (None, 16, 16, 512)      0         \n",
            " 2D)                                                             \n",
            "                                                                 \n",
            " batch_normalization_9 (Batc  (None, 16, 16, 512)      2048      \n",
            " hNormalization)                                                 \n",
            "                                                                 \n",
            " conv2d_10 (Conv2D)          (None, 16, 16, 512)       2359808   \n",
            "                                                                 \n",
            " activation_10 (Activation)  (None, 16, 16, 512)       0         \n",
            "                                                                 \n",
            " batch_normalization_10 (Bat  (None, 16, 16, 512)      2048      \n",
            " chNormalization)                                                \n",
            "                                                                 \n",
            " conv2d_11 (Conv2D)          (None, 16, 16, 512)       2359808   \n",
            "                                                                 \n",
            " activation_11 (Activation)  (None, 16, 16, 512)       0         \n",
            "                                                                 \n",
            " batch_normalization_11 (Bat  (None, 16, 16, 512)      2048      \n",
            " chNormalization)                                                \n",
            "                                                                 \n",
            " conv2d_12 (Conv2D)          (None, 16, 16, 512)       2359808   \n",
            "                                                                 \n",
            " activation_12 (Activation)  (None, 16, 16, 512)       0         \n",
            "                                                                 \n",
            " max_pooling2d_4 (MaxPooling  (None, 8, 8, 512)        0         \n",
            " 2D)                                                             \n",
            "                                                                 \n",
            " batch_normalization_12 (Bat  (None, 8, 8, 512)        2048      \n",
            " chNormalization)                                                \n",
            "                                                                 \n",
            " flatten (Flatten)           (None, 32768)             0         \n",
            "                                                                 \n",
            " dense (Dense)               (None, 4096)              134221824 \n",
            "                                                                 \n",
            " activation_13 (Activation)  (None, 4096)              0         \n",
            "                                                                 \n",
            " batch_normalization_13 (Bat  (None, 4096)             16384     \n",
            " chNormalization)                                                \n",
            "                                                                 \n",
            " dropout (Dropout)           (None, 4096)              0         \n",
            "                                                                 \n",
            " dense_1 (Dense)             (None, 4096)              16781312  \n",
            "                                                                 \n",
            " activation_14 (Activation)  (None, 4096)              0         \n",
            "                                                                 \n",
            " batch_normalization_14 (Bat  (None, 4096)             16384     \n",
            " chNormalization)                                                \n",
            "                                                                 \n",
            " dropout_1 (Dropout)         (None, 4096)              0         \n",
            "                                                                 \n",
            " dense_2 (Dense)             (None, 1000)              4097000   \n",
            "                                                                 \n",
            " activation_15 (Activation)  (None, 1000)              0         \n",
            "                                                                 \n",
            " batch_normalization_15 (Bat  (None, 1000)             4000      \n"
          ]
        },
        {
          "output_type": "stream",
          "name": "stderr",
          "text": [
            "/usr/local/lib/python3.7/dist-packages/keras/optimizer_v2/rmsprop.py:130: UserWarning: The `lr` argument is deprecated, use `learning_rate` instead.\n",
            "  super(RMSprop, self).__init__(name, **kwargs)\n"
          ]
        },
        {
          "output_type": "stream",
          "name": "stdout",
          "text": [
            " chNormalization)                                                \n",
            "                                                                 \n",
            " dropout_2 (Dropout)         (None, 1000)              0         \n",
            "                                                                 \n",
            " dense_3 (Dense)             (None, 2)                 2002      \n",
            "                                                                 \n",
            "=================================================================\n",
            "Total params: 169,869,338\n",
            "Trainable params: 169,842,506\n",
            "Non-trainable params: 26,832\n",
            "_________________________________________________________________\n"
          ]
        }
      ],
      "source": [
        "#setting hyperparameter, menggunakan Adam\n",
        "opt = RMSprop(lr=0.0001)\n",
        "vgg16.compile(loss='categorical_crossentropy', optimizer=opt, metrics=['accuracy'])\n",
        "vgg16.summary()"
      ]
    },
    {
      "cell_type": "code",
      "execution_count": 13,
      "metadata": {
        "id": "JOp0TzHxZYLf",
        "colab": {
          "base_uri": "https://localhost:8080/"
        },
        "outputId": "84774b2a-39e2-4e09-987c-f19fcc999537"
      },
      "outputs": [
        {
          "output_type": "stream",
          "name": "stdout",
          "text": [
            "Epoch 1/30\n",
            "159/159 [==============================] - 85s 410ms/step - loss: 0.5811 - accuracy: 0.8306 - val_loss: 10.4994 - val_accuracy: 0.4842\n",
            "Epoch 2/30\n",
            "159/159 [==============================] - 58s 365ms/step - loss: 0.5749 - accuracy: 0.8448 - val_loss: 0.6012 - val_accuracy: 0.7508\n",
            "Epoch 3/30\n",
            "159/159 [==============================] - 59s 369ms/step - loss: 0.5396 - accuracy: 0.8558 - val_loss: 6.0163 - val_accuracy: 0.4842\n",
            "Epoch 4/30\n",
            "159/159 [==============================] - 59s 372ms/step - loss: 0.5300 - accuracy: 0.8527 - val_loss: 0.6996 - val_accuracy: 0.7871\n",
            "Epoch 5/30\n",
            "159/159 [==============================] - 59s 373ms/step - loss: 0.4655 - accuracy: 0.8701 - val_loss: 5.7082 - val_accuracy: 0.5978\n",
            "Epoch 6/30\n",
            "159/159 [==============================] - 60s 375ms/step - loss: 0.4156 - accuracy: 0.8689 - val_loss: 13.9348 - val_accuracy: 0.4842\n",
            "Epoch 7/30\n",
            "159/159 [==============================] - 60s 375ms/step - loss: 0.3998 - accuracy: 0.8661 - val_loss: 77.3718 - val_accuracy: 0.4842\n",
            "Epoch 8/30\n",
            "159/159 [==============================] - 60s 375ms/step - loss: 0.3935 - accuracy: 0.8811 - val_loss: 0.4738 - val_accuracy: 0.9054\n",
            "Epoch 9/30\n",
            "159/159 [==============================] - 60s 376ms/step - loss: 0.3909 - accuracy: 0.8724 - val_loss: 0.6927 - val_accuracy: 0.8123\n",
            "Epoch 10/30\n",
            "159/159 [==============================] - 60s 376ms/step - loss: 0.3626 - accuracy: 0.8736 - val_loss: 0.1782 - val_accuracy: 0.9353\n",
            "Epoch 11/30\n",
            "159/159 [==============================] - 60s 376ms/step - loss: 0.2699 - accuracy: 0.9123 - val_loss: 0.2121 - val_accuracy: 0.9338\n",
            "Epoch 12/30\n",
            "159/159 [==============================] - 60s 376ms/step - loss: 0.2552 - accuracy: 0.9167 - val_loss: 0.2563 - val_accuracy: 0.9416\n",
            "Epoch 13/30\n",
            "159/159 [==============================] - 60s 376ms/step - loss: 0.2321 - accuracy: 0.9194 - val_loss: 0.3513 - val_accuracy: 0.8896\n",
            "Epoch 14/30\n",
            "159/159 [==============================] - 60s 377ms/step - loss: 0.2286 - accuracy: 0.9202 - val_loss: 2.1966 - val_accuracy: 0.7303\n",
            "Epoch 15/30\n",
            "159/159 [==============================] - 60s 376ms/step - loss: 0.2025 - accuracy: 0.9261 - val_loss: 1.0936 - val_accuracy: 0.6972\n",
            "Epoch 16/30\n",
            "159/159 [==============================] - 60s 376ms/step - loss: 0.2040 - accuracy: 0.9234 - val_loss: 0.3626 - val_accuracy: 0.9290\n",
            "Epoch 17/30\n",
            "159/159 [==============================] - 60s 376ms/step - loss: 0.1707 - accuracy: 0.9427 - val_loss: 0.7813 - val_accuracy: 0.7886\n",
            "Epoch 18/30\n",
            "159/159 [==============================] - 60s 376ms/step - loss: 0.1698 - accuracy: 0.9368 - val_loss: 0.2655 - val_accuracy: 0.9306\n",
            "Epoch 19/30\n",
            "159/159 [==============================] - 60s 376ms/step - loss: 0.1409 - accuracy: 0.9510 - val_loss: 0.3224 - val_accuracy: 0.9101\n",
            "Epoch 20/30\n",
            "159/159 [==============================] - 60s 377ms/step - loss: 0.1412 - accuracy: 0.9570 - val_loss: 0.2213 - val_accuracy: 0.9338\n",
            "Epoch 21/30\n",
            "159/159 [==============================] - 60s 377ms/step - loss: 0.1590 - accuracy: 0.9491 - val_loss: 0.2292 - val_accuracy: 0.9274\n",
            "Epoch 22/30\n",
            "159/159 [==============================] - 60s 376ms/step - loss: 0.1243 - accuracy: 0.9530 - val_loss: 0.2345 - val_accuracy: 0.9322\n",
            "Epoch 23/30\n",
            "159/159 [==============================] - 60s 376ms/step - loss: 0.1105 - accuracy: 0.9645 - val_loss: 0.3236 - val_accuracy: 0.8975\n",
            "Epoch 24/30\n",
            "159/159 [==============================] - 60s 376ms/step - loss: 0.1043 - accuracy: 0.9645 - val_loss: 0.2171 - val_accuracy: 0.9416\n",
            "Epoch 25/30\n",
            "159/159 [==============================] - 60s 378ms/step - loss: 0.1035 - accuracy: 0.9652 - val_loss: 0.1990 - val_accuracy: 0.9353\n",
            "Epoch 26/30\n",
            "159/159 [==============================] - 60s 377ms/step - loss: 0.1046 - accuracy: 0.9672 - val_loss: 0.5653 - val_accuracy: 0.8612\n",
            "Epoch 27/30\n",
            "159/159 [==============================] - 60s 378ms/step - loss: 0.1031 - accuracy: 0.9684 - val_loss: 0.3046 - val_accuracy: 0.9243\n",
            "Epoch 28/30\n",
            "159/159 [==============================] - 60s 378ms/step - loss: 0.0875 - accuracy: 0.9716 - val_loss: 0.2239 - val_accuracy: 0.9448\n",
            "Epoch 29/30\n",
            "159/159 [==============================] - 60s 377ms/step - loss: 0.0732 - accuracy: 0.9783 - val_loss: 0.1688 - val_accuracy: 0.9432\n",
            "Epoch 30/30\n",
            "159/159 [==============================] - 60s 378ms/step - loss: 0.0605 - accuracy: 0.9799 - val_loss: 0.1407 - val_accuracy: 0.9574\n"
          ]
        }
      ],
      "source": [
        "#training data\n",
        "H = vgg16.fit(trainX, trainY, validation_data=(testX, testY), epochs=30, batch_size=16)"
      ]
    },
    {
      "cell_type": "code",
      "execution_count": 14,
      "metadata": {
        "id": "qjoEfHoWsr9H",
        "colab": {
          "base_uri": "https://localhost:8080/"
        },
        "outputId": "223bf328-2aec-48dd-fd5a-36f06417ee5d"
      },
      "outputs": [
        {
          "output_type": "stream",
          "name": "stdout",
          "text": [
            "[INFO] evaluating network...\n"
          ]
        }
      ],
      "source": [
        "print(\"[INFO] evaluating network...\")\n",
        "predictions = vgg16.predict(testX, batch_size=16)\n",
        "pred=predictions.argmax(axis=1)\n",
        "testY_argm=testY.argmax(axis=1)\n"
      ]
    },
    {
      "cell_type": "code",
      "execution_count": 15,
      "metadata": {
        "id": "Po9wqNIMts7s",
        "colab": {
          "base_uri": "https://localhost:8080/"
        },
        "outputId": "3b8d3033-124f-4c6c-ac46-07d223e9b5bb"
      },
      "outputs": [
        {
          "output_type": "stream",
          "name": "stdout",
          "text": [
            "              precision    recall  f1-score   support\n",
            "\n",
            "      Normal       0.95      0.96      0.96       307\n",
            "   Pneumonia       0.96      0.95      0.96       327\n",
            "\n",
            "    accuracy                           0.96       634\n",
            "   macro avg       0.96      0.96      0.96       634\n",
            "weighted avg       0.96      0.96      0.96       634\n",
            "\n"
          ]
        }
      ],
      "source": [
        "print(classification_report(testY_argm,pred,target_names=lb.classes_))"
      ]
    },
    {
      "cell_type": "code",
      "execution_count": 16,
      "metadata": {
        "id": "5NSJXylrt1ND",
        "colab": {
          "base_uri": "https://localhost:8080/"
        },
        "outputId": "5fbc385d-2392-40a0-f109-058265b33b12"
      },
      "outputs": [
        {
          "output_type": "stream",
          "name": "stdout",
          "text": [
            "20/20 [==============================] - 17s 501ms/step - loss: 0.1407 - accuracy: 0.9574\n",
            "Test Loss 0.1407, accuracy 95.74%\n"
          ]
        }
      ],
      "source": [
        "test_score = vgg16.evaluate(testX, testY) \n",
        "print(\"Test Loss {:.4f}, accuracy {:.2f}%\".format(test_score[0], test_score[1] * 100))"
      ]
    },
    {
      "cell_type": "code",
      "execution_count": 17,
      "metadata": {
        "id": "ZS-FXHa6uI6H"
      },
      "outputs": [],
      "source": [
        "from sklearn.metrics import confusion_matrix\n",
        "import itertools\n",
        "\n",
        "def plot_confusion_matrix(cm, classes, normalize=False, title='Confusion matrix', cmap='Blues'):\n",
        "  if normalize:\n",
        "     cm = cm.astype('float') / cm.sum(axis=1)[:, np.newaxis]\n",
        "     print(\"Normalized confusion matrix\")\n",
        "  else:\n",
        "     print('Confusion matrix, without normalization')\n",
        "  print(cm)\n",
        "  plt.imshow(cm, interpolation='nearest', cmap=cmap)\n",
        "  plt.title(title)\n",
        "  plt.colorbar()\n",
        "  tick_marks = np.arange(len(classes))\n",
        "  plt.xticks(tick_marks, classes, rotation=45)\n",
        "  plt.yticks(tick_marks, classes)\n",
        "  fmt = '.2f' if normalize else 'd'\n",
        "  thresh = cm.max() / 2.\n",
        "  for i, j in itertools.product(range(cm.shape[0]), range(cm.shape[1])):\n",
        "      plt.text(j, i, format(cm[i, j], fmt), horizontalalignment=\"center\", color=\"white\" if cm[i, j] > thresh else \"black\")\n",
        "  plt.ylabel('True label')\n",
        "  plt.xlabel('Predicted label')\n",
        "  plt.tight_layout()"
      ]
    },
    {
      "cell_type": "code",
      "execution_count": 18,
      "metadata": {
        "id": "eiYstz9xuRLx",
        "colab": {
          "base_uri": "https://localhost:8080/",
          "height": 1000
        },
        "outputId": "459cdf72-6b55-4732-9503-16e91ce497b0"
      },
      "outputs": [
        {
          "output_type": "stream",
          "name": "stdout",
          "text": [
            "Normalized confusion matrix\n",
            "[[0.96 0.04]\n",
            " [0.05 0.95]]\n"
          ]
        },
        {
          "output_type": "display_data",
          "data": {
            "text/plain": [
              "<Figure size 432x288 with 2 Axes>"
            ],
            "image/png": "[encoded data removed]"
          },
          "metadata": {
            "needs_background": "light"
          }
        },
        {
          "output_type": "stream",
          "name": "stdout",
          "text": [
            "Confusion matrix, without normalization\n",
            "[[295  12]\n",
            " [ 15 312]]\n"
          ]
        },
        {
          "output_type": "display_data",
          "data": {
            "text/plain": [
              "<Figure size 432x288 with 2 Axes>"
            ],
            "image/png": "[encoded data removed]"
          },
          "metadata": {
            "needs_background": "light"
          }
        },
        {
          "output_type": "display_data",
          "data": {
            "text/plain": [
              "<Figure size 432x288 with 1 Axes>"
            ],
            "image/png": "[encoded data removed]"
          },
          "metadata": {
            "needs_background": "light"
          }
        },
        {
          "output_type": "display_data",
          "data": {
            "text/plain": [
              "<Figure size 432x288 with 1 Axes>"
            ],
            "image/png": "[encoded data removed]"
          },
          "metadata": {
            "needs_background": "light"
          }
        }
      ],
      "source": [
        "cnf_matrix = confusion_matrix(testY_argm, pred)\n",
        "np.set_printoptions(precision=2)\n",
        "\n",
        "# Plot non/normalized confusion matrix\n",
        "plt.figure()\n",
        "plot_confusion_matrix(cnf_matrix,\n",
        "classes=lb.classes_, normalize=True)\n",
        "plt.show()\n",
        "\n",
        "plt.figure()\n",
        "plot_confusion_matrix(cnf_matrix,\n",
        "classes=lb.classes_, normalize=False)\n",
        "plt.show()\n",
        "\n",
        "f, ax = plt.subplots()\n",
        "ax.plot([None] + H.history['accuracy'], 'o-')\n",
        "ax.plot([None] + H.history['val_accuracy'], 'x-')\n",
        "\n",
        "ax.legend(['Train acc', 'Validation acc'], loc = 0)\n",
        "ax.set_title('Training/Validation acc per Epoch')\n",
        "ax.set_xlabel('Epoch')\n",
        "ax.set_ylabel('acc')\n",
        "plt.grid(True)\n",
        "\n",
        "f, ax = plt.subplots()\n",
        "ax.plot([None] + H.history['loss'], 'o-')\n",
        "ax.plot([None] + H.history['val_loss'], 'x-')\n",
        "ax.legend(['Train Loss', 'Validation Loss'], loc = 0)\n",
        "ax.set_title('Training/Validation Loss per Epoch')\n",
        "ax.set_xlabel('Epoch')\n",
        "ax.set_ylabel('loss')\n",
        "plt.grid(True)"
      ]
    }
  ],
  "metadata": {
    "accelerator": "GPU",
    "colab": {
      "collapsed_sections": [],
      "name": "pneumonia_VGG_16_fiX (4).ipynb",
      "provenance": [],
      "include_colab_link": true
    },
    "gpuClass": "standard",
    "kernelspec": {
      "display_name": "Python 3",
      "name": "python3"
    },
    "language_info": {
      "name": "python"
    }
  },
  "nbformat": 4,
  "nbformat_minor": 0
}