{
  "cells": [
    {
      "cell_type": "markdown",
      "metadata": {
        "id": "view-in-github",
        "colab_type": "text"
      },
      "source": [
        "<a href=\"https://colab.research.google.com/github/nuramrina46/pneumonia/blob/main/tugas%20akhir/adam%2020.ipynb\" target=\"_parent\"><img src=\"https://colab.research.google.com/assets/colab-badge.svg\" alt=\"Open In Colab\"/></a>"
      ]
    },
    {
      "cell_type": "code",
      "execution_count": 1,
      "metadata": {
        "colab": {
          "base_uri": "https://localhost:8080/"
        },
        "id": "2_RYo7hrXaC5",
        "outputId": "adb5c40c-ebb7-449c-81b5-9969b33c17ea"
      },
      "outputs": [
        {
          "output_type": "stream",
          "name": "stdout",
          "text": [
            "Mounted at /content/drive\n"
          ]
        }
      ],
      "source": [
        "from google.colab import drive\n",
        "drive.mount('/content/drive')"
      ]
    },
    {
      "cell_type": "code",
      "execution_count": 2,
      "metadata": {
        "colab": {
          "base_uri": "https://localhost:8080/"
        },
        "id": "G4aisxOFX3KH",
        "outputId": "19b90a27-6647-4498-ae48-19f62199b6a0"
      },
      "outputs": [
        {
          "output_type": "stream",
          "name": "stdout",
          "text": [
            "/content/drive/My Drive/Colab Notebooks\n"
          ]
        }
      ],
      "source": [
        "cd /content/drive/My Drive/Colab Notebooks"
      ]
    },
    {
      "cell_type": "code",
      "execution_count": 3,
      "metadata": {
        "colab": {
          "base_uri": "https://localhost:8080/"
        },
        "id": "e_oGUrADX8O_",
        "outputId": "a964c4e8-75c5-490f-a703-b624fd372db3"
      },
      "outputs": [
        {
          "output_type": "stream",
          "name": "stdout",
          "text": [
            " \u001b[0m\u001b[01;34mPNEUMONIA\u001b[0m/  'pneumonia_VGG_16_fiX (4).ipynb'  \u001b[01;34m'Untitled folder'\u001b[0m/\n"
          ]
        }
      ],
      "source": [
        "ls"
      ]
    },
    {
      "cell_type": "code",
      "execution_count": 4,
      "metadata": {
        "id": "t95OxlI7X_OF"
      },
      "outputs": [],
      "source": [
        "from keras.models import Model\n",
        "from keras.models import load_model\n",
        "from keras.models import Sequential\n",
        "from keras.layers.convolutional import Convolution2D\n",
        "from keras.layers.convolutional import MaxPooling2D\n",
        "from keras.layers.convolutional import ZeroPadding2D\n",
        "from keras.layers.core import Activation\n",
        "from keras.layers.core import Flatten\n",
        "from keras.layers.core import Dense\n",
        "from keras.layers.core import Dropout\n",
        "from keras.layers import BatchNormalization\n",
        "from keras import regularizers\n",
        "from keras.preprocessing.image import ImageDataGenerator\n",
        "from tensorflow.keras.optimizers import RMSprop, Adam, SGD\n",
        "from sklearn.preprocessing import LabelBinarizer\n",
        "from sklearn.model_selection import train_test_split\n",
        "from sklearn.metrics import classification_report\n",
        "from PIL import Image\n",
        "from matplotlib import pyplot as plt\n",
        "from imutils import paths\n",
        "import numpy as np\n",
        "import os"
      ]
    },
    {
      "cell_type": "code",
      "execution_count": 5,
      "metadata": {
        "colab": {
          "base_uri": "https://localhost:8080/"
        },
        "id": "jvn693i-YDZ8",
        "outputId": "8cc8923b-7748-4e03-d0af-0d6897d5ab11"
      },
      "outputs": [
        {
          "output_type": "stream",
          "name": "stdout",
          "text": [
            "[INFO] loading images...\n"
          ]
        }
      ],
      "source": [
        "print(\"[INFO] loading images...\")\n",
        "imagePaths = paths.list_images(\"PNEUMONIA\")\n",
        "data = []\n",
        "labels = []"
      ]
    },
    {
      "cell_type": "code",
      "execution_count": 6,
      "metadata": {
        "id": "3XLuWAZsYLfK"
      },
      "outputs": [],
      "source": [
        "for imagePaths in imagePaths:\n",
        "    a = Image.open(imagePaths)\n",
        "    image = np.array(a.resize((128,128))) / 255.0\n",
        "    data.append(image)\n",
        "    \n",
        "    label = imagePaths.split(os.path.sep) [-2]\n",
        "    labels.append(label)"
      ]
    },
    {
      "cell_type": "code",
      "execution_count": 7,
      "metadata": {
        "colab": {
          "base_uri": "https://localhost:8080/"
        },
        "id": "LocmKeyCUn_0",
        "outputId": "5be66b2f-df08-4061-e1b7-7c5870b60a9e"
      },
      "outputs": [
        {
          "output_type": "stream",
          "name": "stdout",
          "text": [
            "(3166, 128, 128, 1)\n"
          ]
        }
      ],
      "source": [
        "temp = np.array(data)\n",
        "temp = np.expand_dims(temp, axis=3)\n",
        "print(temp.shape)"
      ]
    },
    {
      "cell_type": "code",
      "execution_count": 8,
      "metadata": {
        "colab": {
          "base_uri": "https://localhost:8080/"
        },
        "id": "gnjyPDi_Yyrn",
        "outputId": "89c3127a-e110-43a7-8dfe-565f93d4b513"
      },
      "outputs": [
        {
          "output_type": "stream",
          "name": "stdout",
          "text": [
            "[[0 1]\n",
            " [0 1]\n",
            " [0 1]\n",
            " ...\n",
            " [1 0]\n",
            " [1 0]\n",
            " [1 0]]\n"
          ]
        }
      ],
      "source": [
        "from sklearn.preprocessing import LabelBinarizer\n",
        "import numpy as np\n",
        "\n",
        "class MyLabelBinarizer(LabelBinarizer):\n",
        "    def transform(self, label):\n",
        "      nilaiy = super().transform(label)\n",
        "      if self.y_type_== 'binary':\n",
        "        return np.hstack((nilaiy, 1-nilaiy))\n",
        "      else:\n",
        "        return nilaiy\n",
        "    def inverse_transform(self, nilaiy, threshold=None):\n",
        "      if self.y_type_ == 'binary':\n",
        "          return super().inverse_transform(nilaiy[:, 0], threshold)\n",
        "      else:\n",
        "          return super().inverse_transform(nilaiy, threshold)\n",
        "\n",
        "      \n",
        "\n",
        "lb = MyLabelBinarizer()\n",
        "labels = lb.fit_transform(labels)\n",
        "print(labels)"
      ]
    },
    {
      "cell_type": "code",
      "execution_count": 9,
      "metadata": {
        "colab": {
          "base_uri": "https://localhost:8080/"
        },
        "id": "0V3CnlQtY1g2",
        "outputId": "de7eeaba-725e-4c7b-ef71-162caa71bcd9"
      },
      "outputs": [
        {
          "output_type": "stream",
          "name": "stdout",
          "text": [
            "(2532, 128, 128)\n",
            "(634, 128, 128)\n"
          ]
        }
      ],
      "source": [
        "(trainX,testX, trainY, testY) = train_test_split(np.array(data),np.array(labels), test_size=0.20, random_state=0)\n",
        "print(trainX.shape)\n",
        "print(testX.shape)"
      ]
    },
    {
      "cell_type": "code",
      "execution_count": 10,
      "metadata": {
        "id": "WpeYjXzUZCZP"
      },
      "outputs": [],
      "source": [
        "def vgg16(num_classes):\n",
        "\n",
        "    vgg16 = Sequential()\n",
        "\n",
        "    vgg16.add(Convolution2D(input_shape=(128,128,1),filters=64,kernel_size=(3,3),padding=\"same\"))\n",
        "    vgg16.add(Activation('relu'))\n",
        "    vgg16.add(BatchNormalization())\n",
        "    #layer1 32*32*64\n",
        "    vgg16.add(Convolution2D(filters=64,kernel_size=(3,3),padding=\"same\"))\n",
        "    vgg16.add(Activation('relu'))\n",
        "    vgg16.add(MaxPooling2D(pool_size=(2, 2),strides=(2,2)))\n",
        "    vgg16.add(BatchNormalization())\n",
        "    #layer2 16*16*64\n",
        "    vgg16.add(Convolution2D(filters=128, kernel_size=(3,3), padding=\"same\"))\n",
        "    vgg16.add(Activation('relu'))\n",
        "    vgg16.add(BatchNormalization())\n",
        "    #layer3 16*16*128\n",
        "    vgg16.add(Convolution2D(filters=128, kernel_size=(3,3), padding=\"same\",))\n",
        "    vgg16.add(Activation('relu'))\n",
        "    vgg16.add(MaxPooling2D(pool_size=(2,2),strides=(2,2)))\n",
        "    vgg16.add(BatchNormalization())\n",
        "    #layer4 8*8*128\n",
        "    vgg16.add(Convolution2D(filters=256, kernel_size=(3,3), padding=\"same\"))\n",
        "    vgg16.add(Activation('relu'))\n",
        "    vgg16.add(BatchNormalization())\n",
        "    #layer5 8*8*256\n",
        "    vgg16.add(Convolution2D(filters=256, kernel_size=(3,3), padding=\"same\"))\n",
        "    vgg16.add(Activation('relu'))\n",
        "    vgg16.add(BatchNormalization())\n",
        "    #layer6 8*8*256\n",
        "    vgg16.add(Convolution2D(filters=256, kernel_size=(3,3), padding=\"same\"))\n",
        "    vgg16.add(Activation('relu'))\n",
        "    vgg16.add(MaxPooling2D(pool_size=(2,2),strides=(2,2)))\n",
        "    vgg16.add(BatchNormalization())\n",
        "    #layer7 4*4*256\n",
        "    vgg16.add(Convolution2D(filters=512, kernel_size=(3,3), padding=\"same\"))\n",
        "    vgg16.add(Activation('relu'))\n",
        "    vgg16.add(BatchNormalization())\n",
        "    #layer8 4*4*512\n",
        "    vgg16.add(Convolution2D(filters=512, kernel_size=(3,3), padding=\"same\"))\n",
        "    vgg16.add(Activation('relu'))\n",
        "    vgg16.add(BatchNormalization())\n",
        "    #layer9 4*4*512\n",
        "    vgg16.add(Convolution2D(filters=512, kernel_size=(3,3), padding=\"same\"))\n",
        "    vgg16.add(Activation('relu'))\n",
        "    vgg16.add(MaxPooling2D(pool_size=(2,2),strides=(2,2)))\n",
        "    vgg16.add(BatchNormalization())\n",
        "    #layer10 2*2*512\n",
        "    vgg16.add(Convolution2D(filters=512, kernel_size=(3,3), padding=\"same\"))\n",
        "    vgg16.add(Activation('relu'))\n",
        "    vgg16.add(BatchNormalization())\n",
        "    #layer11 2*2*512\n",
        "    vgg16.add(Convolution2D(filters=512, kernel_size=(3,3), padding=\"same\"))  \n",
        "    vgg16.add(Activation('relu')) \n",
        "    vgg16.add(BatchNormalization())       \n",
        "    #layer12 2*2*512\n",
        "    vgg16.add(Convolution2D(filters=512, kernel_size=(3,3), padding=\"same\"))\n",
        "    vgg16.add(Activation('relu'))\n",
        "    vgg16.add(MaxPooling2D(pool_size=(2,2),strides=(2,2)))\n",
        "    vgg16.add(BatchNormalization())\n",
        "    #layer13 1*1*512\n",
        "    vgg16.add(Flatten())\n",
        "    vgg16.add(Dense(units=4096))\n",
        "    vgg16.add(Activation('relu')) \n",
        "    vgg16.add(BatchNormalization())\n",
        "    vgg16.add(Dropout(0.5))\n",
        "    #layer14 4096\n",
        "    vgg16.add(Dense(units=4096))\n",
        "    vgg16.add(Activation('relu')) \n",
        "    vgg16.add(BatchNormalization())\n",
        "    vgg16.add(Dropout(0.5))\n",
        "    #layer16 4096\n",
        "    vgg16.add(Dense(units=1000))\n",
        "    vgg16.add(Activation('relu'))\n",
        "    vgg16.add(BatchNormalization())\n",
        "    vgg16.add(Dropout(0.5)) \n",
        "    #layer16 1000\n",
        "    vgg16.add(Dense(2, activation=\"softmax\"))\n",
        "\n",
        "    return vgg16"
      ]
    },
    {
      "cell_type": "code",
      "execution_count": 11,
      "metadata": {
        "colab": {
          "base_uri": "https://localhost:8080/"
        },
        "id": "rlT3OhVuZLUs",
        "outputId": "9411c1af-35f6-4382-86c6-deec15a00779"
      },
      "outputs": [
        {
          "output_type": "stream",
          "name": "stdout",
          "text": [
            "Model: \"sequential\"\n",
            "_________________________________________________________________\n",
            " Layer (type)                Output Shape              Param #   \n",
            "=================================================================\n",
            " conv2d (Conv2D)             (None, 128, 128, 64)      640       \n",
            "                                                                 \n",
            " activation (Activation)     (None, 128, 128, 64)      0         \n",
            "                                                                 \n",
            " batch_normalization (BatchN  (None, 128, 128, 64)     256       \n",
            " ormalization)                                                   \n",
            "                                                                 \n",
            " conv2d_1 (Conv2D)           (None, 128, 128, 64)      36928     \n",
            "                                                                 \n",
            " activation_1 (Activation)   (None, 128, 128, 64)      0         \n",
            "                                                                 \n",
            " max_pooling2d (MaxPooling2D  (None, 64, 64, 64)       0         \n",
            " )                                                               \n",
            "                                                                 \n",
            " batch_normalization_1 (Batc  (None, 64, 64, 64)       256       \n",
            " hNormalization)                                                 \n",
            "                                                                 \n",
            " conv2d_2 (Conv2D)           (None, 64, 64, 128)       73856     \n",
            "                                                                 \n",
            " activation_2 (Activation)   (None, 64, 64, 128)       0         \n",
            "                                                                 \n",
            " batch_normalization_2 (Batc  (None, 64, 64, 128)      512       \n",
            " hNormalization)                                                 \n",
            "                                                                 \n",
            " conv2d_3 (Conv2D)           (None, 64, 64, 128)       147584    \n",
            "                                                                 \n",
            " activation_3 (Activation)   (None, 64, 64, 128)       0         \n",
            "                                                                 \n",
            " max_pooling2d_1 (MaxPooling  (None, 32, 32, 128)      0         \n",
            " 2D)                                                             \n",
            "                                                                 \n",
            " batch_normalization_3 (Batc  (None, 32, 32, 128)      512       \n",
            " hNormalization)                                                 \n",
            "                                                                 \n",
            " conv2d_4 (Conv2D)           (None, 32, 32, 256)       295168    \n",
            "                                                                 \n",
            " activation_4 (Activation)   (None, 32, 32, 256)       0         \n",
            "                                                                 \n",
            " batch_normalization_4 (Batc  (None, 32, 32, 256)      1024      \n",
            " hNormalization)                                                 \n",
            "                                                                 \n",
            " conv2d_5 (Conv2D)           (None, 32, 32, 256)       590080    \n",
            "                                                                 \n",
            " activation_5 (Activation)   (None, 32, 32, 256)       0         \n",
            "                                                                 \n",
            " batch_normalization_5 (Batc  (None, 32, 32, 256)      1024      \n",
            " hNormalization)                                                 \n",
            "                                                                 \n",
            " conv2d_6 (Conv2D)           (None, 32, 32, 256)       590080    \n",
            "                                                                 \n",
            " activation_6 (Activation)   (None, 32, 32, 256)       0         \n",
            "                                                                 \n",
            " max_pooling2d_2 (MaxPooling  (None, 16, 16, 256)      0         \n",
            " 2D)                                                             \n",
            "                                                                 \n",
            " batch_normalization_6 (Batc  (None, 16, 16, 256)      1024      \n",
            " hNormalization)                                                 \n",
            "                                                                 \n",
            " conv2d_7 (Conv2D)           (None, 16, 16, 512)       1180160   \n",
            "                                                                 \n",
            " activation_7 (Activation)   (None, 16, 16, 512)       0         \n",
            "                                                                 \n",
            " batch_normalization_7 (Batc  (None, 16, 16, 512)      2048      \n",
            " hNormalization)                                                 \n",
            "                                                                 \n",
            " conv2d_8 (Conv2D)           (None, 16, 16, 512)       2359808   \n",
            "                                                                 \n",
            " activation_8 (Activation)   (None, 16, 16, 512)       0         \n",
            "                                                                 \n",
            " batch_normalization_8 (Batc  (None, 16, 16, 512)      2048      \n",
            " hNormalization)                                                 \n",
            "                                                                 \n",
            " conv2d_9 (Conv2D)           (None, 16, 16, 512)       2359808   \n",
            "                                                                 \n",
            " activation_9 (Activation)   (None, 16, 16, 512)       0         \n",
            "                                                                 \n",
            " max_pooling2d_3 (MaxPooling  (None, 8, 8, 512)        0         \n",
            " 2D)                                                             \n",
            "                                                                 \n",
            " batch_normalization_9 (Batc  (None, 8, 8, 512)        2048      \n",
            " hNormalization)                                                 \n",
            "                                                                 \n",
            " conv2d_10 (Conv2D)          (None, 8, 8, 512)         2359808   \n",
            "                                                                 \n",
            " activation_10 (Activation)  (None, 8, 8, 512)         0         \n",
            "                                                                 \n",
            " batch_normalization_10 (Bat  (None, 8, 8, 512)        2048      \n",
            " chNormalization)                                                \n",
            "                                                                 \n",
            " conv2d_11 (Conv2D)          (None, 8, 8, 512)         2359808   \n",
            "                                                                 \n",
            " activation_11 (Activation)  (None, 8, 8, 512)         0         \n",
            "                                                                 \n",
            " batch_normalization_11 (Bat  (None, 8, 8, 512)        2048      \n",
            " chNormalization)                                                \n",
            "                                                                 \n",
            " conv2d_12 (Conv2D)          (None, 8, 8, 512)         2359808   \n",
            "                                                                 \n",
            " activation_12 (Activation)  (None, 8, 8, 512)         0         \n",
            "                                                                 \n",
            " max_pooling2d_4 (MaxPooling  (None, 4, 4, 512)        0         \n",
            " 2D)                                                             \n",
            "                                                                 \n",
            " batch_normalization_12 (Bat  (None, 4, 4, 512)        2048      \n",
            " chNormalization)                                                \n",
            "                                                                 \n",
            " flatten (Flatten)           (None, 8192)              0         \n",
            "                                                                 \n",
            " dense (Dense)               (None, 4096)              33558528  \n",
            "                                                                 \n",
            " activation_13 (Activation)  (None, 4096)              0         \n",
            "                                                                 \n",
            " batch_normalization_13 (Bat  (None, 4096)             16384     \n",
            " chNormalization)                                                \n",
            "                                                                 \n",
            " dropout (Dropout)           (None, 4096)              0         \n",
            "                                                                 \n",
            " dense_1 (Dense)             (None, 4096)              16781312  \n",
            "                                                                 \n",
            " activation_14 (Activation)  (None, 4096)              0         \n",
            "                                                                 \n",
            " batch_normalization_14 (Bat  (None, 4096)             16384     \n",
            " chNormalization)                                                \n",
            "                                                                 \n",
            " dropout_1 (Dropout)         (None, 4096)              0         \n",
            "                                                                 \n",
            " dense_2 (Dense)             (None, 1000)              4097000   \n",
            "                                                                 \n",
            " activation_15 (Activation)  (None, 1000)              0         \n",
            "                                                                 \n",
            " batch_normalization_15 (Bat  (None, 1000)             4000      \n",
            " chNormalization)                                                \n",
            "                                                                 \n",
            " dropout_2 (Dropout)         (None, 1000)              0         \n",
            "                                                                 \n",
            " dense_3 (Dense)             (None, 2)                 2002      \n",
            "                                                                 \n",
            "=================================================================\n",
            "Total params: 69,206,042\n",
            "Trainable params: 69,179,210\n",
            "Non-trainable params: 26,832\n",
            "_________________________________________________________________\n"
          ]
        }
      ],
      "source": [
        "num_classes=2\n",
        "vgg16=vgg16(num_classes)\n",
        "vgg16.summary()"
      ]
    },
    {
      "cell_type": "code",
      "execution_count": 12,
      "metadata": {
        "colab": {
          "base_uri": "https://localhost:8080/"
        },
        "id": "eZ0TePWVZTx4",
        "outputId": "527ec9f9-3486-4950-d2cb-44561ecf4d49"
      },
      "outputs": [
        {
          "output_type": "stream",
          "name": "stdout",
          "text": [
            "Model: \"sequential\"\n",
            "_________________________________________________________________\n",
            " Layer (type)                Output Shape              Param #   \n",
            "=================================================================\n",
            " conv2d (Conv2D)             (None, 128, 128, 64)      640       \n",
            "                                                                 \n",
            " activation (Activation)     (None, 128, 128, 64)      0         \n",
            "                                                                 \n",
            " batch_normalization (BatchN  (None, 128, 128, 64)     256       \n",
            " ormalization)                                                   \n",
            "                                                                 \n",
            " conv2d_1 (Conv2D)           (None, 128, 128, 64)      36928     \n",
            "                                                                 \n",
            " activation_1 (Activation)   (None, 128, 128, 64)      0         \n",
            "                                                                 \n",
            " max_pooling2d (MaxPooling2D  (None, 64, 64, 64)       0         \n",
            " )                                                               \n",
            "                                                                 \n",
            " batch_normalization_1 (Batc  (None, 64, 64, 64)       256       \n",
            " hNormalization)                                                 \n",
            "                                                                 \n",
            " conv2d_2 (Conv2D)           (None, 64, 64, 128)       73856     \n",
            "                                                                 \n",
            " activation_2 (Activation)   (None, 64, 64, 128)       0         \n",
            "                                                                 \n",
            " batch_normalization_2 (Batc  (None, 64, 64, 128)      512       \n",
            " hNormalization)                                                 \n",
            "                                                                 \n",
            " conv2d_3 (Conv2D)           (None, 64, 64, 128)       147584    \n",
            "                                                                 \n",
            " activation_3 (Activation)   (None, 64, 64, 128)       0         \n",
            "                                                                 \n",
            " max_pooling2d_1 (MaxPooling  (None, 32, 32, 128)      0         \n",
            " 2D)                                                             \n",
            "                                                                 \n",
            " batch_normalization_3 (Batc  (None, 32, 32, 128)      512       \n",
            " hNormalization)                                                 \n",
            "                                                                 \n",
            " conv2d_4 (Conv2D)           (None, 32, 32, 256)       295168    \n",
            "                                                                 \n",
            " activation_4 (Activation)   (None, 32, 32, 256)       0         \n",
            "                                                                 \n",
            " batch_normalization_4 (Batc  (None, 32, 32, 256)      1024      \n",
            " hNormalization)                                                 \n",
            "                                                                 \n",
            " conv2d_5 (Conv2D)           (None, 32, 32, 256)       590080    \n",
            "                                                                 \n",
            " activation_5 (Activation)   (None, 32, 32, 256)       0         \n",
            "                                                                 \n",
            " batch_normalization_5 (Batc  (None, 32, 32, 256)      1024      \n",
            " hNormalization)                                                 \n",
            "                                                                 \n",
            " conv2d_6 (Conv2D)           (None, 32, 32, 256)       590080    \n",
            "                                                                 \n",
            " activation_6 (Activation)   (None, 32, 32, 256)       0         \n",
            "                                                                 \n",
            " max_pooling2d_2 (MaxPooling  (None, 16, 16, 256)      0         \n",
            " 2D)                                                             \n",
            "                                                                 \n",
            " batch_normalization_6 (Batc  (None, 16, 16, 256)      1024      \n",
            " hNormalization)                                                 \n",
            "                                                                 \n",
            " conv2d_7 (Conv2D)           (None, 16, 16, 512)       1180160   \n",
            "                                                                 \n",
            " activation_7 (Activation)   (None, 16, 16, 512)       0         \n",
            "                                                                 \n",
            " batch_normalization_7 (Batc  (None, 16, 16, 512)      2048      \n",
            " hNormalization)                                                 \n",
            "                                                                 \n",
            " conv2d_8 (Conv2D)           (None, 16, 16, 512)       2359808   \n",
            "                                                                 \n",
            " activation_8 (Activation)   (None, 16, 16, 512)       0         \n",
            "                                                                 \n",
            " batch_normalization_8 (Batc  (None, 16, 16, 512)      2048      \n",
            " hNormalization)                                                 \n",
            "                                                                 \n",
            " conv2d_9 (Conv2D)           (None, 16, 16, 512)       2359808   \n",
            "                                                                 \n",
            " activation_9 (Activation)   (None, 16, 16, 512)       0         \n",
            "                                                                 \n",
            " max_pooling2d_3 (MaxPooling  (None, 8, 8, 512)        0         \n",
            " 2D)                                                             \n",
            "                                                                 \n",
            " batch_normalization_9 (Batc  (None, 8, 8, 512)        2048      \n",
            " hNormalization)                                                 \n",
            "                                                                 \n",
            " conv2d_10 (Conv2D)          (None, 8, 8, 512)         2359808   \n",
            "                                                                 \n",
            " activation_10 (Activation)  (None, 8, 8, 512)         0         \n",
            "                                                                 \n",
            " batch_normalization_10 (Bat  (None, 8, 8, 512)        2048      \n",
            " chNormalization)                                                \n",
            "                                                                 \n",
            " conv2d_11 (Conv2D)          (None, 8, 8, 512)         2359808   \n",
            "                                                                 \n",
            " activation_11 (Activation)  (None, 8, 8, 512)         0         \n",
            "                                                                 \n",
            " batch_normalization_11 (Bat  (None, 8, 8, 512)        2048      \n",
            " chNormalization)                                                \n",
            "                                                                 \n",
            " conv2d_12 (Conv2D)          (None, 8, 8, 512)         2359808   \n",
            "                                                                 \n",
            " activation_12 (Activation)  (None, 8, 8, 512)         0         \n",
            "                                                                 \n",
            " max_pooling2d_4 (MaxPooling  (None, 4, 4, 512)        0         \n",
            " 2D)                                                             \n",
            "                                                                 \n",
            " batch_normalization_12 (Bat  (None, 4, 4, 512)        2048      \n"
          ]
        },
        {
          "output_type": "stream",
          "name": "stderr",
          "text": [
            "/usr/local/lib/python3.7/dist-packages/keras/optimizer_v2/adam.py:105: UserWarning: The `lr` argument is deprecated, use `learning_rate` instead.\n",
            "  super(Adam, self).__init__(name, **kwargs)\n"
          ]
        },
        {
          "output_type": "stream",
          "name": "stdout",
          "text": [
            " chNormalization)                                                \n",
            "                                                                 \n",
            " flatten (Flatten)           (None, 8192)              0         \n",
            "                                                                 \n",
            " dense (Dense)               (None, 4096)              33558528  \n",
            "                                                                 \n",
            " activation_13 (Activation)  (None, 4096)              0         \n",
            "                                                                 \n",
            " batch_normalization_13 (Bat  (None, 4096)             16384     \n",
            " chNormalization)                                                \n",
            "                                                                 \n",
            " dropout (Dropout)           (None, 4096)              0         \n",
            "                                                                 \n",
            " dense_1 (Dense)             (None, 4096)              16781312  \n",
            "                                                                 \n",
            " activation_14 (Activation)  (None, 4096)              0         \n",
            "                                                                 \n",
            " batch_normalization_14 (Bat  (None, 4096)             16384     \n",
            " chNormalization)                                                \n",
            "                                                                 \n",
            " dropout_1 (Dropout)         (None, 4096)              0         \n",
            "                                                                 \n",
            " dense_2 (Dense)             (None, 1000)              4097000   \n",
            "                                                                 \n",
            " activation_15 (Activation)  (None, 1000)              0         \n",
            "                                                                 \n",
            " batch_normalization_15 (Bat  (None, 1000)             4000      \n",
            " chNormalization)                                                \n",
            "                                                                 \n",
            " dropout_2 (Dropout)         (None, 1000)              0         \n",
            "                                                                 \n",
            " dense_3 (Dense)             (None, 2)                 2002      \n",
            "                                                                 \n",
            "=================================================================\n",
            "Total params: 69,206,042\n",
            "Trainable params: 69,179,210\n",
            "Non-trainable params: 26,832\n",
            "_________________________________________________________________\n"
          ]
        }
      ],
      "source": [
        "opt = Adam(lr=0.0001)\n",
        "vgg16.compile(loss='categorical_crossentropy', optimizer=opt, metrics=['accuracy'])\n",
        "vgg16.summary()"
      ]
    },
    {
      "cell_type": "code",
      "execution_count": 13,
      "metadata": {
        "id": "JOp0TzHxZYLf",
        "colab": {
          "base_uri": "https://localhost:8080/"
        },
        "outputId": "c3782aa9-d910-44ee-f969-284f7b099d12"
      },
      "outputs": [
        {
          "output_type": "stream",
          "name": "stdout",
          "text": [
            "Epoch 1/20\n",
            "159/159 [==============================] - 37s 133ms/step - loss: 0.5422 - accuracy: 0.8357 - val_loss: 7.4868 - val_accuracy: 0.4748\n",
            "Epoch 2/20\n",
            "159/159 [==============================] - 17s 107ms/step - loss: 0.4087 - accuracy: 0.8740 - val_loss: 16.7951 - val_accuracy: 0.4748\n",
            "Epoch 3/20\n",
            "159/159 [==============================] - 17s 107ms/step - loss: 0.4082 - accuracy: 0.8807 - val_loss: 6.3395 - val_accuracy: 0.4748\n",
            "Epoch 4/20\n",
            "159/159 [==============================] - 17s 108ms/step - loss: 0.3389 - accuracy: 0.8926 - val_loss: 0.6189 - val_accuracy: 0.8659\n",
            "Epoch 5/20\n",
            "159/159 [==============================] - 17s 108ms/step - loss: 0.2965 - accuracy: 0.9127 - val_loss: 0.2582 - val_accuracy: 0.9259\n",
            "Epoch 6/20\n",
            "159/159 [==============================] - 17s 110ms/step - loss: 0.2831 - accuracy: 0.9119 - val_loss: 0.1786 - val_accuracy: 0.9464\n",
            "Epoch 7/20\n",
            "159/159 [==============================] - 17s 109ms/step - loss: 0.2653 - accuracy: 0.9218 - val_loss: 0.1766 - val_accuracy: 0.9527\n",
            "Epoch 8/20\n",
            "159/159 [==============================] - 17s 108ms/step - loss: 0.2150 - accuracy: 0.9317 - val_loss: 0.2550 - val_accuracy: 0.9196\n",
            "Epoch 9/20\n",
            "159/159 [==============================] - 17s 109ms/step - loss: 0.1952 - accuracy: 0.9364 - val_loss: 0.2189 - val_accuracy: 0.9211\n",
            "Epoch 10/20\n",
            "159/159 [==============================] - 17s 109ms/step - loss: 0.1889 - accuracy: 0.9344 - val_loss: 0.1632 - val_accuracy: 0.9464\n",
            "Epoch 11/20\n",
            "159/159 [==============================] - 18s 111ms/step - loss: 0.1553 - accuracy: 0.9518 - val_loss: 0.1345 - val_accuracy: 0.9558\n",
            "Epoch 12/20\n",
            "159/159 [==============================] - 17s 110ms/step - loss: 0.1501 - accuracy: 0.9419 - val_loss: 0.2273 - val_accuracy: 0.9416\n",
            "Epoch 13/20\n",
            "159/159 [==============================] - 17s 109ms/step - loss: 0.1222 - accuracy: 0.9601 - val_loss: 0.1504 - val_accuracy: 0.9527\n",
            "Epoch 14/20\n",
            "159/159 [==============================] - 17s 109ms/step - loss: 0.1852 - accuracy: 0.9376 - val_loss: 0.2088 - val_accuracy: 0.9401\n",
            "Epoch 15/20\n",
            "159/159 [==============================] - 17s 109ms/step - loss: 0.1821 - accuracy: 0.9352 - val_loss: 0.1900 - val_accuracy: 0.9416\n",
            "Epoch 16/20\n",
            "159/159 [==============================] - 17s 109ms/step - loss: 0.1117 - accuracy: 0.9601 - val_loss: 0.1137 - val_accuracy: 0.9574\n",
            "Epoch 17/20\n",
            "159/159 [==============================] - 17s 109ms/step - loss: 0.1028 - accuracy: 0.9660 - val_loss: 0.1468 - val_accuracy: 0.9479\n",
            "Epoch 18/20\n",
            "159/159 [==============================] - 17s 108ms/step - loss: 0.0969 - accuracy: 0.9664 - val_loss: 0.2450 - val_accuracy: 0.9385\n",
            "Epoch 19/20\n",
            "159/159 [==============================] - 17s 109ms/step - loss: 0.1542 - accuracy: 0.9530 - val_loss: 0.1475 - val_accuracy: 0.9416\n",
            "Epoch 20/20\n",
            "159/159 [==============================] - 17s 109ms/step - loss: 0.2018 - accuracy: 0.9340 - val_loss: 0.1570 - val_accuracy: 0.9527\n"
          ]
        }
      ],
      "source": [
        "#training data\n",
        "H = vgg16.fit(trainX, trainY, validation_data=(testX, testY), epochs=20, batch_size=16)"
      ]
    },
    {
      "cell_type": "code",
      "execution_count": 14,
      "metadata": {
        "id": "qjoEfHoWsr9H",
        "colab": {
          "base_uri": "https://localhost:8080/"
        },
        "outputId": "956d8a63-a16e-4e58-fe52-41f0b26875ad"
      },
      "outputs": [
        {
          "output_type": "stream",
          "name": "stdout",
          "text": [
            "[INFO] evaluating network...\n"
          ]
        }
      ],
      "source": [
        "print(\"[INFO] evaluating network...\")\n",
        "predictions = vgg16.predict(testX, batch_size=16)\n",
        "pred=predictions.argmax(axis=1)\n",
        "testY_argm=testY.argmax(axis=1)\n"
      ]
    },
    {
      "cell_type": "code",
      "execution_count": 15,
      "metadata": {
        "id": "Po9wqNIMts7s",
        "colab": {
          "base_uri": "https://localhost:8080/"
        },
        "outputId": "8aa5227d-4b66-4565-f8d7-351cb274f883"
      },
      "outputs": [
        {
          "output_type": "stream",
          "name": "stdout",
          "text": [
            "              precision    recall  f1-score   support\n",
            "\n",
            "      Normal       0.94      0.96      0.95       301\n",
            "   Pneumonia       0.96      0.95      0.95       333\n",
            "\n",
            "    accuracy                           0.95       634\n",
            "   macro avg       0.95      0.95      0.95       634\n",
            "weighted avg       0.95      0.95      0.95       634\n",
            "\n"
          ]
        }
      ],
      "source": [
        "print(classification_report(testY_argm,pred,target_names=lb.classes_))"
      ]
    },
    {
      "cell_type": "code",
      "execution_count": 16,
      "metadata": {
        "id": "5NSJXylrt1ND",
        "colab": {
          "base_uri": "https://localhost:8080/"
        },
        "outputId": "d7ebff3e-b7d2-4946-81c8-f544853342b6"
      },
      "outputs": [
        {
          "output_type": "stream",
          "name": "stdout",
          "text": [
            "20/20 [==============================] - 6s 162ms/step - loss: 0.1570 - accuracy: 0.9527\n",
            "Test Loss 0.1570, accuracy 95.27%\n"
          ]
        }
      ],
      "source": [
        "test_score = vgg16.evaluate(testX, testY) \n",
        "print(\"Test Loss {:.4f}, accuracy {:.2f}%\".format(test_score[0], test_score[1] * 100))"
      ]
    },
    {
      "cell_type": "code",
      "execution_count": 17,
      "metadata": {
        "id": "ZS-FXHa6uI6H"
      },
      "outputs": [],
      "source": [
        "from sklearn.metrics import confusion_matrix\n",
        "import itertools\n",
        "\n",
        "def plot_confusion_matrix(cm, classes, normalize=False, title='Confusion matrix', cmap='Blues'):\n",
        "  if normalize:\n",
        "     cm = cm.astype('float') / cm.sum(axis=1)[:, np.newaxis]\n",
        "     print(\"Normalized confusion matrix\")\n",
        "  else:\n",
        "     print('Confusion matrix, without normalization')\n",
        "  print(cm)\n",
        "  plt.imshow(cm, interpolation='nearest', cmap=cmap)\n",
        "  plt.title(title)\n",
        "  plt.colorbar()\n",
        "  tick_marks = np.arange(len(classes))\n",
        "  plt.xticks(tick_marks, classes, rotation=45)\n",
        "  plt.yticks(tick_marks, classes)\n",
        "  fmt = '.2f' if normalize else 'd'\n",
        "  thresh = cm.max() / 2.\n",
        "  for i, j in itertools.product(range(cm.shape[0]), range(cm.shape[1])):\n",
        "      plt.text(j, i, format(cm[i, j], fmt), horizontalalignment=\"center\", color=\"white\" if cm[i, j] > thresh else \"black\")\n",
        "  plt.ylabel('True label')\n",
        "  plt.xlabel('Predicted label')\n",
        "  plt.tight_layout()"
      ]
    },
    {
      "cell_type": "code",
      "execution_count": 18,
      "metadata": {
        "id": "eiYstz9xuRLx",
        "colab": {
          "base_uri": "https://localhost:8080/",
          "height": 1000
        },
        "outputId": "06c596e5-df6f-4da7-c081-c6bca8bee834"
      },
      "outputs": [
        {
          "output_type": "stream",
          "name": "stdout",
          "text": [
            "Normalized confusion matrix\n",
            "[[0.96 0.04]\n",
            " [0.05 0.95]]\n"
          ]
        },
        {
          "output_type": "display_data",
          "data": {
            "text/plain": [
              "<Figure size 432x288 with 2 Axes>"
            ],
            "image/png": "[encoded data removed]"
          },
          "metadata": {
            "needs_background": "light"
          }
        },
        {
          "output_type": "stream",
          "name": "stdout",
          "text": [
            "Confusion matrix, without normalization\n",
            "[[289  12]\n",
            " [ 18 315]]\n"
          ]
        },
        {
          "output_type": "display_data",
          "data": {
            "text/plain": [
              "<Figure size 432x288 with 2 Axes>"
            ],
            "image/png": "[encoded data removed]"
          },
          "metadata": {
            "needs_background": "light"
          }
        },
        {
          "output_type": "display_data",
          "data": {
            "text/plain": [
              "<Figure size 432x288 with 1 Axes>"
            ],
            "image/png": "[encoded data removed]"
          },
          "metadata": {
            "needs_background": "light"
          }
        },
        {
          "output_type": "display_data",
          "data": {
            "text/plain": [
              "<Figure size 432x288 with 1 Axes>"
            ],
            "image/png": "[encoded data removed]"
          },
          "metadata": {
            "needs_background": "light"
          }
        }
      ],
      "source": [
        "cnf_matrix = confusion_matrix(testY_argm, pred)\n",
        "np.set_printoptions(precision=2)\n",
        "\n",
        "# Plot non/normalized confusion matrix\n",
        "plt.figure()\n",
        "plot_confusion_matrix(cnf_matrix,\n",
        "classes=lb.classes_, normalize=True)\n",
        "plt.show()\n",
        "\n",
        "plt.figure()\n",
        "plot_confusion_matrix(cnf_matrix,\n",
        "classes=lb.classes_, normalize=False)\n",
        "plt.show()\n",
        "\n",
        "f, ax = plt.subplots()\n",
        "ax.plot([None] + H.history['accuracy'], 'o-')\n",
        "ax.plot([None] + H.history['val_accuracy'], 'x-')\n",
        "\n",
        "ax.legend(['Train acc', 'Validation acc'], loc = 0)\n",
        "ax.set_title('Training/Validation acc per Epoch')\n",
        "ax.set_xlabel('Epoch')\n",
        "ax.set_ylabel('acc')\n",
        "plt.grid(True)\n",
        "\n",
        "f, ax = plt.subplots()\n",
        "ax.plot([None] + H.history['loss'], 'o-')\n",
        "ax.plot([None] + H.history['val_loss'], 'x-')\n",
        "ax.legend(['Train Loss', 'Validation Loss'], loc = 0)\n",
        "ax.set_title('Training/Validation Loss per Epoch')\n",
        "ax.set_xlabel('Epoch')\n",
        "ax.set_ylabel('loss')\n",
        "plt.grid(True)"
      ]
    }
  ],
  "metadata": {
    "accelerator": "GPU",
    "colab": {
      "collapsed_sections": [],
      "name": "pneumonia_VGG_16_fiX (4).ipynb",
      "provenance": [],
      "include_colab_link": true
    },
    "gpuClass": "standard",
    "kernelspec": {
      "display_name": "Python 3",
      "name": "python3"
    },
    "language_info": {
      "name": "python"
    }
  },
  "nbformat": 4,
  "nbformat_minor": 0
}
